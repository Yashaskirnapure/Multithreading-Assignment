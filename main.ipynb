{
 "cells": [
  {
   "cell_type": "code",
   "execution_count": null,
   "metadata": {},
   "outputs": [],
   "source": [
    "import numpy as np\n",
    "import threading\n",
    "import time\n",
    "from tabulate import tabulate\n",
    "import matplotlib.pyplot as plt\n",
    "\n",
    "def multiply(A, B, result, index):\n",
    "    result[index] = np.dot(A, B)\n",
    "\n",
    "def run_threads(num_threads):\n",
    "    start_time = time.time()\n",
    "    threads = []\n",
    "    for i, matrix in enumerate(matrices):\n",
    "        thread = threading.Thread(target=multiply, args=(A, matrix, results, i))\n",
    "        threads.append(thread)\n",
    "        thread.start()\n",
    "    for thread in threads:\n",
    "        thread.join()\n",
    "    end_time = time.time()\n",
    "    return end_time - start_time\n",
    "\n",
    "A = np.random.rand(1000, 1000)\n",
    "\n",
    "results = [None] * 100\n",
    "\n",
    "matrices = [np.random.rand(1000, 1000) for _ in range(100)]\n",
    "\n",
    "results_table = []\n",
    "num_threads=list(range(1,11))\n",
    "time_taken=[]\n",
    "for num_t in num_threads:\n",
    "    ttime= run_threads(num_t)\n",
    "    time_taken.append(ttime)\n",
    "    results_table.append((\"T= \"+str(num_t), round(ttime,4)))\n",
    "\n",
    "ans = list(zip(*results_table))\n",
    "print(tabulate(ans,tablefmt=\"grid\", showindex=[\"Threads\", \"Time taken (sec)\"]))\n",
    "\n",
    "plt.plot(num_threads, time_taken)\n",
    "plt.xlabel('No of Threads')\n",
    "plt.ylabel('Time taken (sec)')\n",
    "plt.title('No of threads V/S time taken')\n",
    "plt.xticks(range(1,11))\n",
    "plt.grid(True)\n",
    "plt.show()"
   ]
  },
  {
   "cell_type": "code",
   "execution_count": null,
   "metadata": {},
   "outputs": [],
   "source": []
  }
 ],
 "metadata": {
  "kernelspec": {
   "display_name": "Python 3 (ipykernel)",
   "language": "python",
   "name": "python3"
  },
  "language_info": {
   "codemirror_mode": {
    "name": "ipython",
    "version": 3
   },
   "file_extension": ".py",
   "mimetype": "text/x-python",
   "name": "python",
   "nbconvert_exporter": "python",
   "pygments_lexer": "ipython3",
   "version": "3.11.7"
  }
 },
 "nbformat": 4,
 "nbformat_minor": 2
}
